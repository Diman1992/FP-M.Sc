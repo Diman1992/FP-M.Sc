{
 "cells": [
  {
   "cell_type": "code",
   "execution_count": 2,
   "metadata": {
    "collapsed": true
   },
   "outputs": [],
   "source": [
    "import numpy as np\n",
    "import pandas as pd\n",
    "import matplotlib.pyplot as plt"
   ]
  },
  {
   "cell_type": "markdown",
   "metadata": {},
   "source": [
    "# Dateninput"
   ]
  },
  {
   "cell_type": "code",
   "execution_count": 54,
   "metadata": {
    "collapsed": false
   },
   "outputs": [
    {
     "data": {
      "text/html": [
       "<div>\n",
       "<table border=\"1\" class=\"dataframe\">\n",
       "  <thead>\n",
       "    <tr style=\"text-align: right;\">\n",
       "      <th></th>\n",
       "      <th>frequenz</th>\n",
       "      <th>voltage</th>\n",
       "      <th>vN</th>\n",
       "      <th>voltageNormed</th>\n",
       "    </tr>\n",
       "  </thead>\n",
       "  <tbody>\n",
       "    <tr>\n",
       "      <th>0</th>\n",
       "      <td>5.08</td>\n",
       "      <td>6.6</td>\n",
       "      <td>5.0</td>\n",
       "      <td>0.264</td>\n",
       "    </tr>\n",
       "    <tr>\n",
       "      <th>1</th>\n",
       "      <td>5.60</td>\n",
       "      <td>26.0</td>\n",
       "      <td>5.0</td>\n",
       "      <td>1.040</td>\n",
       "    </tr>\n",
       "    <tr>\n",
       "      <th>2</th>\n",
       "      <td>5.99</td>\n",
       "      <td>50.3</td>\n",
       "      <td>5.0</td>\n",
       "      <td>2.012</td>\n",
       "    </tr>\n",
       "    <tr>\n",
       "      <th>3</th>\n",
       "      <td>6.62</td>\n",
       "      <td>119.5</td>\n",
       "      <td>5.0</td>\n",
       "      <td>4.780</td>\n",
       "    </tr>\n",
       "    <tr>\n",
       "      <th>4</th>\n",
       "      <td>7.25</td>\n",
       "      <td>242.0</td>\n",
       "      <td>5.0</td>\n",
       "      <td>9.680</td>\n",
       "    </tr>\n",
       "    <tr>\n",
       "      <th>5</th>\n",
       "      <td>8.15</td>\n",
       "      <td>548.0</td>\n",
       "      <td>5.0</td>\n",
       "      <td>21.920</td>\n",
       "    </tr>\n",
       "    <tr>\n",
       "      <th>6</th>\n",
       "      <td>8.56</td>\n",
       "      <td>742.0</td>\n",
       "      <td>5.0</td>\n",
       "      <td>29.680</td>\n",
       "    </tr>\n",
       "    <tr>\n",
       "      <th>7</th>\n",
       "      <td>9.18</td>\n",
       "      <td>1091.0</td>\n",
       "      <td>5.0</td>\n",
       "      <td>43.640</td>\n",
       "    </tr>\n",
       "    <tr>\n",
       "      <th>8</th>\n",
       "      <td>9.56</td>\n",
       "      <td>1326.0</td>\n",
       "      <td>5.0</td>\n",
       "      <td>53.040</td>\n",
       "    </tr>\n",
       "    <tr>\n",
       "      <th>9</th>\n",
       "      <td>10.09</td>\n",
       "      <td>1648.0</td>\n",
       "      <td>5.0</td>\n",
       "      <td>65.920</td>\n",
       "    </tr>\n",
       "  </tbody>\n",
       "</table>\n",
       "</div>"
      ],
      "text/plain": [
       "   frequenz  voltage   vN  voltageNormed\n",
       "0      5.08      6.6  5.0          0.264\n",
       "1      5.60     26.0  5.0          1.040\n",
       "2      5.99     50.3  5.0          2.012\n",
       "3      6.62    119.5  5.0          4.780\n",
       "4      7.25    242.0  5.0          9.680\n",
       "5      8.15    548.0  5.0         21.920\n",
       "6      8.56    742.0  5.0         29.680\n",
       "7      9.18   1091.0  5.0         43.640\n",
       "8      9.56   1326.0  5.0         53.040\n",
       "9     10.09   1648.0  5.0         65.920"
      ]
     },
     "execution_count": 54,
     "metadata": {},
     "output_type": "execute_result"
    }
   ],
   "source": [
    "daten = pd.read_csv('data.csv', header=0, delimiter='\\t', names=['frequenz', 'voltage','vN'])\n",
    "daten = daten.fillna(method='pad')\n",
    "daten['voltageNormed'] = daten.voltage / daten.vN**2\n",
    "daten.head(10)"
   ]
  },
  {
   "cell_type": "code",
   "execution_count": 55,
   "metadata": {
    "collapsed": false,
    "scrolled": true
   },
   "outputs": [],
   "source": [
    "daten.index = daten.frequenz"
   ]
  },
  {
   "cell_type": "code",
   "execution_count": 59,
   "metadata": {
    "collapsed": false,
    "scrolled": true
   },
   "outputs": [],
   "source": [
    "daten.voltageNormed.plot(linestyle='', marker='+', markersize=5)\n",
    "plt.xlim((3.5,45))\n",
    "plt.xlabel('Frequenz [kHz]')\n",
    "plt.ylabel('Voltage [mV]')\n",
    "plt.grid()\n",
    "plt.savefig('sinus.pdf')\n",
    "plt.show()"
   ]
  },
  {
   "cell_type": "code",
   "execution_count": 86,
   "metadata": {
    "collapsed": false,
    "scrolled": true
   },
   "outputs": [],
   "source": [
    "daten = pd.read_csv('daten_korrel_sin.csv', header=0, delimiter='\\t', names=['frequenz', 'voltage','vN'])\n",
    "daten = daten.fillna(method='pad')\n",
    "daten.index = daten.frequenz\n",
    "daten['voltageNormed'] = daten.voltage / daten.vN**2\n",
    "\n",
    "\n",
    "daten.voltageNormed.plot(linestyle='', marker='+', markersize=5)\n",
    "plt.xlim((0.1,320))\n",
    "plt.ylim((1e-2,1e4))\n",
    "plt.xlabel('Frequenz [kHz]')\n",
    "plt.ylabel('Voltage [mV]')\n",
    "plt.grid()\n",
    "plt.savefig('sin_korrel.pdf')\n",
    "plt.loglog()\n",
    "plt.show()"
   ]
  },
  {
   "cell_type": "code",
   "execution_count": 70,
   "metadata": {
    "collapsed": true
   },
   "outputs": [],
   "source": [
    "daten = pd.read_csv('daten_korrel_wid1.csv', header=0, delimiter='\\t', names=['frequenz', 'voltage','vN'])\n",
    "daten = daten.fillna(method='pad')\n",
    "daten.index = daten.frequenz\n",
    "daten['voltageNormed'] = daten.voltage / daten.vN**2\n",
    "\n",
    "\n",
    "daten.voltageNormed.plot(linestyle='', marker='+', markersize=5)\n",
    "plt.xlim((0,1000))\n",
    "plt.xlabel('Widerstand [Ohm]')\n",
    "plt.ylabel('Voltage [mV]')\n",
    "plt.grid()\n",
    "plt.savefig('wid1_korrel.pdf')\n",
    "plt.show()"
   ]
  },
  {
   "cell_type": "code",
   "execution_count": 80,
   "metadata": {
    "collapsed": true
   },
   "outputs": [],
   "source": [
    "daten = pd.read_csv('daten_korrel_wid2.csv', header=0, delimiter='\\t', names=['frequenz', 'voltage','vN'])\n",
    "daten = daten.fillna(method='pad')\n",
    "daten.index = daten.frequenz\n",
    "daten['voltageNormed'] = daten.voltage / daten.vN**2\n",
    "\n",
    "\n",
    "daten.voltageNormed.plot(linestyle='', marker='+', markersize=5)\n",
    "plt.xlim((0,100))\n",
    "plt.xlabel('Widerstand [Ohm]')\n",
    "plt.ylabel('Voltage [mV]')\n",
    "plt.grid()\n",
    "plt.savefig('wid2_korrel.pdf')\n",
    "plt.show()"
   ]
  }
 ],
 "metadata": {
  "kernelspec": {
   "display_name": "Python 3",
   "language": "python",
   "name": "python3"
  },
  "language_info": {
   "codemirror_mode": {
    "name": "ipython",
    "version": 3
   },
   "file_extension": ".py",
   "mimetype": "text/x-python",
   "name": "python",
   "nbconvert_exporter": "python",
   "pygments_lexer": "ipython3",
   "version": "3.5.1"
  }
 },
 "nbformat": 4,
 "nbformat_minor": 0
}
