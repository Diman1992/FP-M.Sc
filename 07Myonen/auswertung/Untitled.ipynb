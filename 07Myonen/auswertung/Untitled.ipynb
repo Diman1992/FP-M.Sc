{
 "metadata": {
  "kernelspec": {
   "display_name": "Python 3",
   "language": "python",
   "name": "python3"
  },
  "language_info": {
   "codemirror_mode": {
    "name": "ipython",
    "version": 3
   },
   "file_extension": ".py",
   "mimetype": "text/x-python",
   "name": "python",
   "nbconvert_exporter": "python",
   "pygments_lexer": "ipython3",
   "version": "3.5.1"
  },
  "name": "",
  "signature": "sha256:8c4d16985f74dd248bb10778f32536ebb0a9e3a4a76dd0386fdd4578c90e6c11"
 },
 "nbformat": 3,
 "nbformat_minor": 0,
 "worksheets": [
  {
   "cells": [
    {
     "cell_type": "code",
     "collapsed": false,
     "input": [
      "import pandas as pd\n",
      "import numpy as np\n",
      "import matplotlib.pyplot as plt\n",
      "from scipy.optimize import curve_fit\n",
      "from uncertainties import ufloat, unumpy\n",
      "from uncertainties.umath import exp"
     ],
     "language": "python",
     "metadata": {},
     "outputs": [],
     "prompt_number": 112
    },
    {
     "cell_type": "code",
     "collapsed": false,
     "input": [
      "def gauss(x, A, mu, sig):\n",
      "    return A*np.exp(-((x-mu)/sig)**2)"
     ],
     "language": "python",
     "metadata": {},
     "outputs": [],
     "prompt_number": 113
    },
    {
     "cell_type": "code",
     "collapsed": false,
     "input": [
      "df = pd.read_csv('timeDelay.dat', header=0, names=['t','counts','messzeit'], skiprows=4)\n",
      "df.fillna(10, inplace=True)\n",
      "df['count10'] = df.counts / df.messzeit*10\n",
      "df['std_c'] = np.sqrt(df['counts'])\n",
      "df['std_c10'] = df['std_c']/df.messzeit*10\n",
      "\n",
      "\n",
      "popt1, pcov1 = curve_fit(gauss, df.t.values, df.count10.values, sigma=1/df.std_c10)\n",
      "\n",
      "x = np.linspace(-50, 50, 50)\n",
      "y = gauss(x, popt1[0], popt1[1], popt1[2])\n",
      "\n",
      "#print(popt,pcov)\n",
      "fig = plt.figure()\n",
      "ax = fig.add_subplot(111)\n",
      "ax.errorbar(x=df['t'].values, y=df['count10'].values, yerr=df.std_c10.values, label='Daten', linestyle='None', marker='o')\n",
      "ax.plot(x,y, label='Gaussfunktion')\n",
      "ax.grid()\n",
      "ax.set_xlim((-50,50))\n",
      "ax.set_ylim((0,250))\n",
      "ax.set_xlabel('t [ns]')\n",
      "ax.set_ylabel('Counts pro 10 s')\n",
      "ax.legend(loc='upper right')\n",
      "plt.savefig('../pics/koinzidenz.pdf')\n",
      "plt.show()\n",
      "print(popt1,np.sqrt(pcov1))\n",
      "print(np.linalg.eig(pcov1)[0])\n",
      "df\n",
      "df.to_latex('Koinzidenz.dat', column_format='lcc', index=False, float_format=lambda x : str(round(x,1)), columns=['t', 'messzeit','count10','std_c10'])"
     ],
     "language": "python",
     "metadata": {
      "scrolled": true
     },
     "outputs": [
      {
       "output_type": "stream",
       "stream": "stdout",
       "text": [
        "[ 212.54625276    1.68507754  -50.82770597] [[ 5.0438047   1.38144241  2.88662122]\n",
        " [ 1.38144241  2.03303141         nan]\n",
        " [ 2.88662122         nan  3.86136046]]\n",
        "[ 30.07132615  10.97049816   3.4414629 ]\n"
       ]
      }
     ],
     "prompt_number": 110
    },
    {
     "cell_type": "code",
     "collapsed": false,
     "input": [
      "df2 = pd.read_csv('Kalibration.Spe', comment='#', skipinitialspace=True, header=None, names=['count'])\n",
      "df2 = df2[(df2['count'].values != 0)]\n",
      "df2['channel'] = df2.index.values\n",
      "\n",
      "# meld channels that lie next to each other\n",
      "channelList = list()\n",
      "countList = list()\n",
      "errList = list()\n",
      "tempChannelList = list()\n",
      "tempCountList = list()\n",
      "\n",
      "def mergeList(l1, l2):\n",
      "    totCount = np.sum(l2)\n",
      "    meanChan = np.average(l1, weights=l2)\n",
      "    std = np.sqrt(np.average((l1-meanChan)**2, weights=l2))\n",
      "    return meanChan, totCount, std\n",
      "\n",
      "for i in df2.iterrows():\n",
      "    # wenn Liste noch leer, erzeuge ersten Eintrag\n",
      "    if not tempChannelList:\n",
      "        tempChannelList.append(i[0])\n",
      "        tempCountList.append(i[1]['count'])\n",
      "    else:\n",
      "        # wenn Liste nicht leer und vorheriger Channel ist in der Liste\n",
      "        if i[0]-1 in tempChannelList:\n",
      "            tempChannelList.append(i[0])\n",
      "            tempCountList.append(i[1]['count'])\n",
      "        else:\n",
      "            # Aktueller wert geh\u00f6rt zu neuem Channel -> merge alle alten und erzeuge neue leere liste\n",
      "            chann, count, err = mergeList(tempChannelList, tempCountList)\n",
      "            tempChannelList = list()\n",
      "            tempCountList = list()\n",
      "            if(count>1):\n",
      "                channelList.append(chann)\n",
      "                countList.append(count)\n",
      "                errList.append(err)\n",
      "            tempChannelList.append(i[0])\n",
      "            tempCountList.append(i[1]['count'])\n",
      "chann, count, err = mergeList(tempChannelList, tempCountList)\n",
      "if(count>1):\n",
      "    channelList.append(chann)\n",
      "    countList.append(count)\n",
      "    errList.append(err)\n",
      "print(channelList)\n",
      "df3 = pd.DataFrame({'counts' : countList, 'channel' : channelList, 'error':errList, 'deltaT' : [1,2,3,4,5,6,7,8,9]})"
     ],
     "language": "python",
     "metadata": {},
     "outputs": [
      {
       "output_type": "stream",
       "stream": "stdout",
       "text": [
        "[22.0, 44.0, 66.0, 88.06478132193358, 110.11076508711388, 132.14153150972322, 154.17293161166907, 176.19551043987786, 198.29657137922101]\n"
       ]
      }
     ],
     "prompt_number": 28
    },
    {
     "cell_type": "code",
     "collapsed": false,
     "input": [
      "fig = plt.figure()\n",
      "ax = fig.add_subplot(111)\n",
      "ax.errorbar(x=df3['channel'], y=df3['deltaT'], xerr=df3['error'], label='Daten', ms=3, marker='o', linestyle='None')\n",
      "ax.grid()\n",
      "ax.set_xlabel('Channel')\n",
      "ax.set_ylabel(r'$\\Delta t$ [ns]')\n",
      "\n",
      "def lin(x, m, b):\n",
      "    return m*x+b\n",
      "\n",
      "popt2, pcov2 = curve_fit(lin, df3.deltaT.values, df3.channel.values, sigma=1/df3.error.values)\n",
      "m = 1/ufloat(popt2[0],pcov2[0,0])\n",
      "b = -ufloat(popt2[1],pcov2[1,1])*m\n",
      "\n",
      "x = np.linspace(0, 220, 5)\n",
      "y = lin(x, m.nominal_value, b.nominal_value)\n",
      "ax.plot(x,y, label='Linearer fit')\n",
      "ax.legend(loc='best')\n",
      "ax.set_xlim((0,250))\n",
      "ax.set_ylim((0,11))\n",
      "\n",
      "plt.savefig('../pics/linFit.pdf')\n",
      "plt.show()\n",
      "popt2,pcov2\n",
      "m,b\n",
      "df3.to_latex('linFit.dat', column_format='lcc', index=False, float_format=lambda x : str(round(x,2)))"
     ],
     "language": "python",
     "metadata": {
      "scrolled": true
     },
     "outputs": [],
     "prompt_number": 111
    },
    {
     "cell_type": "code",
     "collapsed": false,
     "input": [
      "# Poisson\n",
      "count_jan = 7894976\n",
      "time_jan = 246420\n",
      "count_dim = 32201706\n",
      "time_dim = 1449146\n",
      "N = ufloat(count_dim, np.sqrt(count_dim))\n",
      "N_quer = N / time_dim\n",
      "x_jan = 12.5\n",
      "x_dim = 22\n",
      "y = 1/m*x_dim-b/m\n",
      "ts = 2\n",
      "P_n1 = (N_quer*x_dim*10**-6)*exp(-(N_quer*x_dim*10**-6)) \n",
      "N_b = P_n1*N\n",
      "\n",
      "# Channel limit\n",
      "\n",
      "y,N_b/y, P_n1,N_quer,N_b"
     ],
     "language": "python",
     "metadata": {},
     "outputs": [
      {
       "metadata": {},
       "output_type": "pyout",
       "prompt_number": 115,
       "text": [
        "(484.84154862775625+/-0.0013827246123192512,\n",
        " 32.453097779323265+/-0.011435489765903094,\n",
        " 0.0004886266021152759+/-8.606474842242843e-08,\n",
        " 22.221160600795226+/-0.003915861274951971,\n",
        " 15734.61018509509+/-5.544218971441414)"
       ]
      }
     ],
     "prompt_number": 115
    },
    {
     "cell_type": "code",
     "collapsed": false,
     "input": [
      "def nexp(x, A,b):\n",
      "    return A*np.exp(x/b)\n",
      "\n",
      "df4 = pd.read_csv('Myonen.Spe', comment='#', skipinitialspace=True, header=None, names=['count'])\n",
      "df4['count'] = df4['count'] - 7.41 #Background\n",
      "df4['channel'] = df4.index.values\n",
      "df4['deltaT'] = lin(df4.channel, m.nominal_value, b.nominal_value)\n",
      "df4.query('count > 0')#, inplace=True)\n",
      "\n",
      "df4Fit = df4.query('(channel< 13 | channel>16) & channel > 2')\n",
      "df4NoFit = df4.query('13 <= channel <=16 | channel <3')\n",
      "popt3, pcov3 = curve_fit(nexp, df4Fit.deltaT, df4Fit['count'], p0=[500,-0.2])\n",
      "x = np.linspace(0, 22, 100)\n",
      "y = nexp(x, popt3[0], popt3[1])\n",
      "\n",
      "fig = plt.figure()\n",
      "ax = fig.add_subplot(111)\n",
      "ax.errorbar(x=df4['deltaT'], y=df4['count'], yerr=np.sqrt(df4['count'].values), label='Daten', linestyle='None')\n",
      "ax.errorbar(x=df4NoFit['deltaT'], y=df4NoFit['count'], yerr=np.sqrt(df4NoFit['count'].values), label='Nicht verwendet', color='orange', linestyle='None')\n",
      "ax.plot(x,y, c='red',lw=2, label='Exponentieller Fit')\n",
      "ax.grid()\n",
      "ax.legend()\n",
      "ax.set_ylabel('Counts')\n",
      "ax.set_xlabel(r'$\\Delta t [\\mu s]$')\n",
      "ax.set_xlim((0,13))\n",
      "ax.semilogy()\n",
      "plt.savefig('../pics/lebensdauer.pdf')\n",
      "plt.show()\n",
      "popt3,np.sqrt(pcov3)"
     ],
     "language": "python",
     "metadata": {},
     "outputs": [
      {
       "metadata": {},
       "output_type": "pyout",
       "prompt_number": 99,
       "text": [
        "(array([  3.77255476e+03,  -2.15638990e+00]),\n",
        " array([[  1.03534419e+01,   2.41924763e-01],\n",
        "        [  2.41924763e-01,   7.57269282e-03]]))"
       ]
      }
     ],
     "prompt_number": 99
    },
    {
     "cell_type": "code",
     "collapsed": false,
     "input": [
      "def exp2(x, A, b, c):\n",
      "    return A*np.exp(x/b)+c\n",
      "\n",
      "df5 = pd.read_csv('Myonen.Spe', comment='#', skipinitialspace=True, header=None, names=['count'])\n",
      "df5['channel'] = df5.index.values\n",
      "df5['deltaT'] = lin(df5.channel, m.nominal_value, b.nominal_value)\n",
      "df5.query('count > 0')#, inplace=True)\n",
      "\n",
      "df5Fit = df5.query('(channel< 13 | channel>16) & channel > 2')\n",
      "df5NoFit = df5.query('13 <= channel <=16 | channel <3')\n",
      "popt4, pcov4 = curve_fit(exp2, df5Fit.deltaT, df5Fit['count'], p0=[500,-2.2,0])\n",
      "x = np.linspace(0, 22, 100)\n",
      "y = exp2(x, popt4[0], popt4[1],popt4[2])\n",
      "\n",
      "fig = plt.figure()\n",
      "ax = fig.add_subplot(111)\n",
      "ax.errorbar(x=df5['deltaT'], y=df5['count'], yerr=np.sqrt(df5['count'].values), label='Daten', linestyle='None')\n",
      "ax.errorbar(x=df5NoFit['deltaT'], y=df5NoFit['count'], yerr=np.sqrt(df5NoFit['count'].values), label='Nicht verwendet', color='orange', linestyle='None')\n",
      "ax.plot(x,y, c='red',lw=2, label='Exponentieller Fit')\n",
      "ax.grid()\n",
      "ax.legend()\n",
      "ax.set_ylabel('Counts')\n",
      "ax.set_xlabel(r'$\\Delta t [\\mu s]$')\n",
      "ax.set_xlim((0,22.5))\n",
      "ax.semilogy()\n",
      "plt.savefig('../pics/lebensdauer_fit.pdf')\n",
      "#plt.show()\n",
      "eigen = np.sqrt(np.linalg.eig(pcov4)[0])\n",
      "print(eigen) #eigenvalues(cov) = variances\n",
      "print(np.sum(eigen),np.matrix.trace(np.sqrt(pcov4)))\n",
      "popt4,np.sqrt(pcov4)"
     ],
     "language": "python",
     "metadata": {},
     "outputs": [
      {
       "output_type": "stream",
       "stream": "stdout",
       "text": [
        "[  8.79855406e+00   1.40077972e+00   4.16170369e-03]\n",
        "10.2034954794 10.2077088174\n"
       ]
      },
      {
       "metadata": {},
       "output_type": "pyout",
       "prompt_number": 104,
       "text": [
        "(array([  3.77946101e+03,  -2.10568061e+00,   2.81154391e+01]),\n",
        " array([[  8.79830800e+00,   2.05942644e-01,   7.54999286e-01],\n",
        "        [  2.05942644e-01,   7.08815790e-03,   6.83497998e-02],\n",
        "        [  7.54999286e-01,   6.83497998e-02,   1.40231266e+00]]))"
       ]
      }
     ],
     "prompt_number": 104
    },
    {
     "cell_type": "code",
     "collapsed": false,
     "input": [
      "1449146/3600/24"
     ],
     "language": "python",
     "metadata": {},
     "outputs": [
      {
       "metadata": {},
       "output_type": "pyout",
       "prompt_number": 47,
       "text": [
        "16.77252314814815"
       ]
      }
     ],
     "prompt_number": 47
    },
    {
     "cell_type": "code",
     "collapsed": false,
     "input": [],
     "language": "python",
     "metadata": {},
     "outputs": []
    }
   ],
   "metadata": {}
  }
 ]
}