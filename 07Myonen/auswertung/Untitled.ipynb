{
 "cells": [
  {
   "cell_type": "code",
   "execution_count": 1,
   "metadata": {
    "collapsed": false
   },
   "outputs": [],
   "source": [
    "import pandas as pd\n",
    "import numpy as np\n",
    "import matplotlib.pyplot as plt\n",
    "from scipy.optimize import curve_fit\n",
    "from uncertainties import ufloat, unumpy\n",
    "from uncertainties.umath import exp"
   ]
  },
  {
   "cell_type": "code",
   "execution_count": 2,
   "metadata": {
    "collapsed": false
   },
   "outputs": [],
   "source": [
    "def gauss(x, A, mu, sig):\n",
    "    return A*np.exp(-((x-mu)/sig)**2)"
   ]
  },
  {
   "cell_type": "code",
   "execution_count": 3,
   "metadata": {
    "collapsed": false,
    "scrolled": true
   },
   "outputs": [
    {
     "data": {
      "image/png": "[encoded data removed]",
      "text/plain": [
       "<matplotlib.figure.Figure at 0x7f51230c41d0>"
      ]
     },
     "metadata": {},
     "output_type": "display_data"
    },
    {
     "name": "stdout",
     "output_type": "stream",
     "text": [
      "[ 231.88505911   -3.45568813   26.55605803] [[ 6.42281263         nan         nan]\n",
      " [        nan  1.42262657         nan]\n",
      " [        nan         nan  3.53393067]]\n"
     ]
    },
    {
     "data": {
      "text/html": [
       "<div>\n",
       "<table border=\"1\" class=\"dataframe\">\n",
       "  <thead>\n",
       "    <tr style=\"text-align: right;\">\n",
       "      <th></th>\n",
       "      <th>t</th>\n",
       "      <th>counts</th>\n",
       "      <th>messzeit</th>\n",
       "      <th>count10</th>\n",
       "      <th>std_c</th>\n",
       "      <th>std_c10</th>\n",
       "    </tr>\n",
       "  </thead>\n",
       "  <tbody>\n",
       "    <tr>\n",
       "      <th>0</th>\n",
       "      <td>-32.0</td>\n",
       "      <td>10</td>\n",
       "      <td>10.0</td>\n",
       "      <td>10.000000</td>\n",
       "      <td>3.162278</td>\n",
       "      <td>3.162278</td>\n",
       "    </tr>\n",
       "    <tr>\n",
       "      <th>1</th>\n",
       "      <td>-16.0</td>\n",
       "      <td>208</td>\n",
       "      <td>10.0</td>\n",
       "      <td>208.000000</td>\n",
       "      <td>14.422205</td>\n",
       "      <td>14.422205</td>\n",
       "    </tr>\n",
       "    <tr>\n",
       "      <th>2</th>\n",
       "      <td>-8.0</td>\n",
       "      <td>205</td>\n",
       "      <td>10.0</td>\n",
       "      <td>205.000000</td>\n",
       "      <td>14.317821</td>\n",
       "      <td>14.317821</td>\n",
       "    </tr>\n",
       "    <tr>\n",
       "      <th>3</th>\n",
       "      <td>-6.0</td>\n",
       "      <td>449</td>\n",
       "      <td>20.0</td>\n",
       "      <td>224.500000</td>\n",
       "      <td>21.189620</td>\n",
       "      <td>10.594810</td>\n",
       "    </tr>\n",
       "    <tr>\n",
       "      <th>4</th>\n",
       "      <td>-5.5</td>\n",
       "      <td>438</td>\n",
       "      <td>20.0</td>\n",
       "      <td>219.000000</td>\n",
       "      <td>20.928450</td>\n",
       "      <td>10.464225</td>\n",
       "    </tr>\n",
       "    <tr>\n",
       "      <th>5</th>\n",
       "      <td>-5.0</td>\n",
       "      <td>473</td>\n",
       "      <td>20.0</td>\n",
       "      <td>236.500000</td>\n",
       "      <td>21.748563</td>\n",
       "      <td>10.874282</td>\n",
       "    </tr>\n",
       "    <tr>\n",
       "      <th>6</th>\n",
       "      <td>-4.5</td>\n",
       "      <td>438</td>\n",
       "      <td>20.0</td>\n",
       "      <td>219.000000</td>\n",
       "      <td>20.928450</td>\n",
       "      <td>10.464225</td>\n",
       "    </tr>\n",
       "    <tr>\n",
       "      <th>7</th>\n",
       "      <td>-4.0</td>\n",
       "      <td>698</td>\n",
       "      <td>30.0</td>\n",
       "      <td>232.666667</td>\n",
       "      <td>26.419690</td>\n",
       "      <td>8.806563</td>\n",
       "    </tr>\n",
       "    <tr>\n",
       "      <th>8</th>\n",
       "      <td>-3.0</td>\n",
       "      <td>457</td>\n",
       "      <td>20.0</td>\n",
       "      <td>228.500000</td>\n",
       "      <td>21.377558</td>\n",
       "      <td>10.688779</td>\n",
       "    </tr>\n",
       "    <tr>\n",
       "      <th>9</th>\n",
       "      <td>-2.0</td>\n",
       "      <td>236</td>\n",
       "      <td>10.0</td>\n",
       "      <td>236.000000</td>\n",
       "      <td>15.362291</td>\n",
       "      <td>15.362291</td>\n",
       "    </tr>\n",
       "    <tr>\n",
       "      <th>10</th>\n",
       "      <td>-1.0</td>\n",
       "      <td>204</td>\n",
       "      <td>10.0</td>\n",
       "      <td>204.000000</td>\n",
       "      <td>14.282857</td>\n",
       "      <td>14.282857</td>\n",
       "    </tr>\n",
       "    <tr>\n",
       "      <th>11</th>\n",
       "      <td>1.0</td>\n",
       "      <td>662</td>\n",
       "      <td>30.0</td>\n",
       "      <td>220.666667</td>\n",
       "      <td>25.729361</td>\n",
       "      <td>8.576454</td>\n",
       "    </tr>\n",
       "    <tr>\n",
       "      <th>12</th>\n",
       "      <td>2.0</td>\n",
       "      <td>236</td>\n",
       "      <td>10.0</td>\n",
       "      <td>236.000000</td>\n",
       "      <td>15.362291</td>\n",
       "      <td>15.362291</td>\n",
       "    </tr>\n",
       "    <tr>\n",
       "      <th>13</th>\n",
       "      <td>4.0</td>\n",
       "      <td>235</td>\n",
       "      <td>10.0</td>\n",
       "      <td>235.000000</td>\n",
       "      <td>15.329710</td>\n",
       "      <td>15.329710</td>\n",
       "    </tr>\n",
       "    <tr>\n",
       "      <th>14</th>\n",
       "      <td>8.0</td>\n",
       "      <td>209</td>\n",
       "      <td>10.0</td>\n",
       "      <td>209.000000</td>\n",
       "      <td>14.456832</td>\n",
       "      <td>14.456832</td>\n",
       "    </tr>\n",
       "    <tr>\n",
       "      <th>15</th>\n",
       "      <td>16.0</td>\n",
       "      <td>78</td>\n",
       "      <td>10.0</td>\n",
       "      <td>78.000000</td>\n",
       "      <td>8.831761</td>\n",
       "      <td>8.831761</td>\n",
       "    </tr>\n",
       "    <tr>\n",
       "      <th>16</th>\n",
       "      <td>32.0</td>\n",
       "      <td>3</td>\n",
       "      <td>10.0</td>\n",
       "      <td>3.000000</td>\n",
       "      <td>1.732051</td>\n",
       "      <td>1.732051</td>\n",
       "    </tr>\n",
       "  </tbody>\n",
       "</table>\n",
       "</div>"
      ],
      "text/plain": [
       "       t  counts  messzeit     count10      std_c    std_c10\n",
       "0  -32.0      10      10.0   10.000000   3.162278   3.162278\n",
       "1  -16.0     208      10.0  208.000000  14.422205  14.422205\n",
       "2   -8.0     205      10.0  205.000000  14.317821  14.317821\n",
       "3   -6.0     449      20.0  224.500000  21.189620  10.594810\n",
       "4   -5.5     438      20.0  219.000000  20.928450  10.464225\n",
       "5   -5.0     473      20.0  236.500000  21.748563  10.874282\n",
       "6   -4.5     438      20.0  219.000000  20.928450  10.464225\n",
       "7   -4.0     698      30.0  232.666667  26.419690   8.806563\n",
       "8   -3.0     457      20.0  228.500000  21.377558  10.688779\n",
       "9   -2.0     236      10.0  236.000000  15.362291  15.362291\n",
       "10  -1.0     204      10.0  204.000000  14.282857  14.282857\n",
       "11   1.0     662      30.0  220.666667  25.729361   8.576454\n",
       "12   2.0     236      10.0  236.000000  15.362291  15.362291\n",
       "13   4.0     235      10.0  235.000000  15.329710  15.329710\n",
       "14   8.0     209      10.0  209.000000  14.456832  14.456832\n",
       "15  16.0      78      10.0   78.000000   8.831761   8.831761\n",
       "16  32.0       3      10.0    3.000000   1.732051   1.732051"
      ]
     },
     "execution_count": 3,
     "metadata": {},
     "output_type": "execute_result"
    }
   ],
   "source": [
    "df = pd.read_csv('../daten/zeit.dat', header=0, names=['t','counts','messzeit'], skipinitialspace=True)\n",
    "df.fillna(10, inplace=True)\n",
    "df['count10'] = df.counts / df.messzeit*10\n",
    "df['std_c'] = np.sqrt(df['counts'])\n",
    "df['std_c10'] = df['std_c']/df.messzeit*10\n",
    "\n",
    "\n",
    "popt1, pcov1 = curve_fit(gauss, df.t.values, df.count10.values, sigma=1/df.std_c10)\n",
    "\n",
    "x = np.linspace(-50, 40, 50)\n",
    "y = gauss(x, popt1[0], popt1[1], popt1[2])\n",
    "\n",
    "#print(popt,pcov)\n",
    "fig = plt.figure()\n",
    "ax = fig.add_subplot(111)\n",
    "ax.errorbar(x=df['t'].values, y=df['count10'].values, yerr=df.std_c10.values, label='Daten', linestyle='None', marker='o')\n",
    "ax.plot(x,y, label='Gaussfunktion')\n",
    "ax.grid()\n",
    "ax.set_xlim((-50,50))\n",
    "ax.set_ylim((0,250))\n",
    "ax.set_xlabel('t [ns]')\n",
    "ax.set_ylabel('Counts pro 10 s')\n",
    "ax.legend(loc='upper right')\n",
    "plt.savefig('../tex/Bilder/koinzidenz.pdf')\n",
    "plt.show()\n",
    "print(popt1,np.sqrt(pcov1))\n",
    "df\n",
    "#df.to_latex('Koinzidenz.dat', column_format='lcc', index=False, float_format=lambda x : str(round(x,1)), columns=['t', 'messzeit','counts','std_c', 'count10','std_c10'])"
   ]
  },
  {
   "cell_type": "code",
   "execution_count": 4,
   "metadata": {
    "collapsed": false
   },
   "outputs": [],
   "source": [
    "df2 = pd.read_csv('../daten/kalibration.Spe', comment='#', skipinitialspace=True, header=None, names=['count'])\n",
    "df2 = df2[(df2['count'].values != 0)]\n",
    "df2['channel'] = df2.index.values\n",
    "\n",
    "# meld channels that lie next to each other\n",
    "channelList = list()\n",
    "countList = list()\n",
    "errList = list()\n",
    "tempChannelList = list()\n",
    "tempCountList = list()\n",
    "\n",
    "def mergeList(l1, l2):\n",
    "    totCount = np.sum(l2)\n",
    "    meanChan = np.average(l1, weights=l2)\n",
    "    std = np.sqrt(np.average((l1-meanChan)**2, weights=l2))\n",
    "    return meanChan, totCount, std\n",
    "\n",
    "for i in df2.iterrows():\n",
    "    # wenn Liste noch leer, erzeuge ersten Eintrag\n",
    "    if not tempChannelList:\n",
    "        tempChannelList.append(i[0])\n",
    "        tempCountList.append(i[1]['count'])\n",
    "    else:\n",
    "        # wenn Liste nicht leer und vorheriger Channel ist in der Liste\n",
    "        if i[0]-1 in tempChannelList:\n",
    "            tempChannelList.append(i[0])\n",
    "            tempCountList.append(i[1]['count'])\n",
    "        else:\n",
    "            # Aktueller wert gehört zu neuem Channel -> merge alle alten und erzeuge neue leere liste\n",
    "            chann, count, err = mergeList(tempChannelList, tempCountList)\n",
    "            tempChannelList = list()\n",
    "            tempCountList = list()\n",
    "            channelList.append(chann)\n",
    "            countList.append(count)\n",
    "            errList.append(err)\n",
    "            tempChannelList.append(i[0])\n",
    "            tempCountList.append(i[1]['count'])\n",
    "chann, count, err = mergeList(tempChannelList, tempCountList)\n",
    "channelList.append(chann)\n",
    "countList.append(count)\n",
    "errList.append(err)\n",
    "df3 = pd.DataFrame({'counts' : countList, 'channel' : channelList, 'error':errList, 'deltaT' : [1,2,3,4,5,6,7,8,9]})"
   ]
  },
  {
   "cell_type": "code",
   "execution_count": 5,
   "metadata": {
    "collapsed": false,
    "scrolled": true
   },
   "outputs": [
    {
     "data": {
      "image/png": "[encoded data removed]",
      "text/plain": [
       "<matplotlib.figure.Figure at 0x7f5123019be0>"
      ]
     },
     "metadata": {},
     "output_type": "display_data"
    },
    {
     "data": {
      "text/plain": [
       "(0.045240299772403396+/-1.2361790891978633e-07,\n",
       " 0.0034321530446440275+/-0.00014100976295846945)"
      ]
     },
     "execution_count": 5,
     "metadata": {},
     "output_type": "execute_result"
    }
   ],
   "source": [
    "fig = plt.figure()\n",
    "ax = fig.add_subplot(111)\n",
    "ax.errorbar(x=df3['channel'], y=df3['deltaT'], xerr=df3['error'], label='Daten', ms=3, marker='o', linestyle='None')\n",
    "ax.grid()\n",
    "ax.set_xlabel('Channel')\n",
    "ax.set_ylabel(r'$\\Delta t$ [ns]')\n",
    "\n",
    "def lin(x, m, b):\n",
    "    return m*x+b\n",
    "\n",
    "popt2, pcov2 = curve_fit(lin, df3.deltaT.values, df3.channel.values, sigma=1/df3.error.values)\n",
    "m = 1/ufloat(popt2[0],pcov2[0,0])\n",
    "b = -ufloat(popt2[1],pcov2[1,1])*m\n",
    "\n",
    "x = np.linspace(0, 220, 5)\n",
    "y = lin(x, m.nominal_value, b.nominal_value)\n",
    "ax.plot(x,y, label='Linearer fit')\n",
    "ax.legend(loc='best')\n",
    "ax.set_xlim((0,250))\n",
    "ax.set_ylim((0,11))\n",
    "\n",
    "plt.savefig('../tex/Bilder/linFit.pdf')\n",
    "plt.show()\n",
    "popt2,pcov2\n",
    "m,b\n",
    "#df3.to_latex('LinFit.dat', column_format='lcc', index=False, float_format=lambda x : str(round(x,2)))"
   ]
  },
  {
   "cell_type": "code",
   "execution_count": 6,
   "metadata": {
    "collapsed": false
   },
   "outputs": [
    {
     "data": {
      "text/plain": [
       "13.729127656384316+/-0.00977126868506257"
      ]
     },
     "execution_count": 6,
     "metadata": {},
     "output_type": "execute_result"
    }
   ],
   "source": [
    "# Poisson\n",
    "N = ufloat(7894976, np.sqrt(7894976))\n",
    "N_quer = N / 246420\n",
    "P_n1 = (N_quer*15*10**-6)*exp(-(N_quer*15*10**-6))\n",
    "N_b = P_n1*N\n",
    "\n",
    "# Channel limit\n",
    "x = 12.5\n",
    "y = 1/m*x-b/m\n",
    "N_b/y"
   ]
  },
  {
   "cell_type": "code",
   "execution_count": 10,
   "metadata": {
    "collapsed": false
   },
   "outputs": [
    {
     "data": {
      "image/png": "[encoded data removed]",
      "text/plain": [
       "<matplotlib.figure.Figure at 0x7f511f3fd4e0>"
      ]
     },
     "metadata": {},
     "output_type": "display_data"
    },
    {
     "data": {
      "text/plain": [
       "(array([ 729.57296432,   -2.08303122]), array([[ 4.15423274,  0.21693052],\n",
       "        [ 0.21693052,  0.01517332]]))"
      ]
     },
     "execution_count": 10,
     "metadata": {},
     "output_type": "execute_result"
    }
   ],
   "source": [
    "def exp(x, A, b):\n",
    "    return A*np.exp(x/b)\n",
    "\n",
    "df4 = pd.read_csv('../daten/daten.Spe', comment='#', skipinitialspace=True, header=None, names=['count'])\n",
    "df4['count'] = df4['count'] - 7.41 #Background\n",
    "df4['channel'] = df4.index.values\n",
    "df4['deltaT'] = lin(df4.channel, m.nominal_value, b.nominal_value)\n",
    "df4.query('count > 0', inplace=True)\n",
    "\n",
    "df4Fit = df4.query('(channel< 13 | channel>16) & channel > 2')\n",
    "df4NoFit = df4.query('13 <= channel <=16 | channel <3')\n",
    "popt3, pcov3 = curve_fit(exp, df4Fit.deltaT, df4Fit['count'], p0=[500,-0.2])\n",
    "x = np.linspace(0, 15, 100)\n",
    "y = exp(x, popt3[0], popt3[1])\n",
    "\n",
    "fig = plt.figure()\n",
    "ax = fig.add_subplot(111)\n",
    "ax.errorbar(x=df4['deltaT'], y=df4['count'], yerr=np.sqrt(df4['count'].values), label='Daten', linestyle='None')\n",
    "ax.errorbar(x=df4NoFit['deltaT'], y=df4NoFit['count'], yerr=np.sqrt(df4NoFit['count'].values), label='Nicht verwendet', color='orange', linestyle='None')\n",
    "ax.plot(x,y, c='red',lw=2, label='Exponentieller Fit')\n",
    "ax.grid()\n",
    "ax.legend()\n",
    "ax.set_ylabel('Counts')\n",
    "ax.set_xlabel(r'$\\Delta t [\\mu s]$')\n",
    "ax.set_xlim((0,13))\n",
    "ax.semilogy()\n",
    "plt.savefig('../tex/Bilder/lebensdauer.pdf')\n",
    "plt.show()\n",
    "popt3,np.sqrt(pcov3)"
   ]
  },
  {
   "cell_type": "code",
   "execution_count": 11,
   "metadata": {
    "collapsed": false
   },
   "outputs": [
    {
     "data": {
      "image/png": "[encoded data removed]",
      "text/plain": [
       "<matplotlib.figure.Figure at 0x7f51230b59b0>"
      ]
     },
     "metadata": {},
     "output_type": "display_data"
    },
    {
     "data": {
      "text/plain": [
       "(array([ 729.33792581,   -2.11250142,    4.77961531]),\n",
       " array([[ 3.88226418,  0.21096383,  0.49802639],\n",
       "        [ 0.21096383,  0.01930423,  0.11795741],\n",
       "        [ 0.49802639,  0.11795741,  1.07892106]]))"
      ]
     },
     "execution_count": 11,
     "metadata": {},
     "output_type": "execute_result"
    }
   ],
   "source": [
    "def exp2(x, A, b, c):\n",
    "    return A*np.exp(x/b)+c\n",
    "\n",
    "df5 = pd.read_csv('../daten/daten.Spe', comment='#', skipinitialspace=True, header=None, names=['count'])\n",
    "df5['channel'] = df5.index.values\n",
    "df5['deltaT'] = lin(df5.channel, m.nominal_value, b.nominal_value)\n",
    "df5.query('count > 0', inplace=True)\n",
    "\n",
    "df5Fit = df5.query('(channel< 13 | channel>16) & channel > 2')\n",
    "df5NoFit = df5.query('13 <= channel <=16 | channel <3')\n",
    "popt4, pcov4 = curve_fit(exp2, df5Fit.deltaT, df5Fit['count'], p0=[500,-0.2,0])\n",
    "x = np.linspace(0, 15, 100)\n",
    "y = exp2(x, popt4[0], popt4[1],popt4[2])\n",
    "\n",
    "fig = plt.figure()\n",
    "ax = fig.add_subplot(111)\n",
    "ax.errorbar(x=df5['deltaT'], y=df5['count'], yerr=np.sqrt(df5['count'].values), label='Daten', linestyle='None')\n",
    "ax.errorbar(x=df5NoFit['deltaT'], y=df5NoFit['count'], yerr=np.sqrt(df5NoFit['count'].values), label='Nicht verwendet', color='orange', linestyle='None')\n",
    "ax.plot(x,y, c='red',lw=2, label='Exponentieller Fit')\n",
    "ax.grid()\n",
    "ax.legend()\n",
    "ax.set_ylabel('Counts')\n",
    "ax.set_xlabel(r'$\\Delta t [\\mu s]$')\n",
    "ax.set_xlim((0,13))\n",
    "ax.semilogy()\n",
    "plt.savefig('../tex/Bilder/lebensdauer_fit.pdf')\n",
    "plt.show()\n",
    "popt4,np.sqrt(pcov4)"
   ]
  }
 ],
 "metadata": {
  "kernelspec": {
   "display_name": "Python 3",
   "language": "python",
   "name": "python3"
  },
  "language_info": {
   "codemirror_mode": {
    "name": "ipython",
    "version": 3
   },
   "file_extension": ".py",
   "mimetype": "text/x-python",
   "name": "python",
   "nbconvert_exporter": "python",
   "pygments_lexer": "ipython3",
   "version": "3.5.1"
  }
 },
 "nbformat": 4,
 "nbformat_minor": 1
}
