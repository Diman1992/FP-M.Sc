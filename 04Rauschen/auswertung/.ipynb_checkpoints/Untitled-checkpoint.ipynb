{
 "cells": [
  {
   "cell_type": "code",
   "execution_count": 9,
   "metadata": {
    "collapsed": false
   },
   "outputs": [],
   "source": [
    "import numpy as np\n",
    "from scipy.optimize import curve_fit\n",
    "from scipy.integrate import cumtrapz\n",
    "import scipy.constants as const\n",
    "import pandas as pd\n",
    "import matplotlib.pyplot as plt\n",
    "import uncertainties as unc\n",
    "from uncertainties import unumpy\n",
    "%matplotlib inline\n",
    "\n",
    "def secondDerivative(x,y):\n",
    "    deri = np.ones(len(x)-2)\n",
    "    for i in range(len(deri)):\n",
    "        deri[i] = (y[i+2] - 2*y[i+1] + y[i]) / (x[i+2] - x[i])**2\n",
    "    return deri\n",
    "\n",
    "def restGlied(x,y):\n",
    "    return (max(x)-min(x))**3/(len(x)**2) / 24 * max(secondDerivative(x, y))\n",
    "\n",
    "    \n",
    "def durchlasskurve(nu, nu0, Q, Ue2):\n",
    "    return Ue2/Q**2 * 1/((nu/nu0)**2 + (nu/nu0)**-2 + Q**-2 -2)\n",
    "\n",
    "def gerade(x, m, b):\n",
    "    return m*x+b\n",
    "\n",
    "def eFunk(x, m, b):\n",
    "    return 10**(b) * x**m\n",
    "\n",
    "def deltaNu(nu, R):\n",
    "    if 10 <= nu < 100:\n",
    "        return 0.15*nu - 0.3\n",
    "    if 100 <= nu < 10e3:\n",
    "        return 0.14*nu + 0.7\n",
    "    if 10e3 <= nu < 50e3:\n",
    "        return 0.135*nu + 0.05e3\n",
    "    if 50e3 <= nu <= 100e3:\n",
    "        if R == 2200:\n",
    "            return 0.115*nu + 1.05e3\n",
    "        elif R == 4680:\n",
    "            return 0.109*nu + 1.2e3\n",
    "        else:\n",
    "            print('Falscher Widerstand')\n",
    "            return -1\n",
    "    else:\n",
    "        print('Out of Range. Nu:{}'.format(nu))\n",
    "        return -1\n",
    "\n",
    "def fillNu(row, R):\n",
    "    if np.isnan(row.dNu):\n",
    "        return deltaNu(row.frequenz_Hz, R)\n",
    "    else:\n",
    "        return row.dNu\n"
   ]
  },
  {
   "cell_type": "markdown",
   "metadata": {},
   "source": [
    "### Sinus Normal"
   ]
  },
  {
   "cell_type": "code",
   "execution_count": 10,
   "metadata": {
    "collapsed": false
   },
   "outputs": [
    {
     "data": {
      "image/png": "[encoded data removed]",
      "text/plain": [
       "<matplotlib.figure.Figure at 0x7fea96498e48>"
      ]
     },
     "metadata": {},
     "output_type": "display_data"
    }
   ],
   "source": [
    "sin1 = pd.read_csv('daten_sin.csv', header=0, delimiter='\\t', names=['frequenz', 'voltage','vN'])\n",
    "sin1 = sin1.fillna(method='pad')\n",
    "\n",
    "# Rauschen der Aparatur abziehen\n",
    "eigenRauschen = pd.read_csv('eigenRauschen1.csv', header=0, delimiter='\\t', index_col=0, names=['eigenRauschen'])\n",
    "sin1 = sin1.join(eigenRauschen, on='vN', how='left')\n",
    "sin1['voltage'] -= sin1['eigenRauschen']\n",
    "\n",
    "#Einheiten Umrechnen\n",
    "\n",
    "sin1['frequenzkHz'] = sin1.frequenz #Plot soll in kHz bleiben\n",
    "sin1.frequenz *= 1000 # in Herz umrechnen\n",
    "sin1.index = sin1.frequenz\n",
    "sin1['voltage'] /= 1000 #in Volt umrechnen\n",
    "sin1.sort_index(inplace=True)\n",
    "\n",
    "# Verstärkungen aufzählen\n",
    "V_in = 175e-3 #Eingangsspannung\n",
    "V_ab = 1000 #Abschwächer\n",
    "V_V = 1000 #Vorverstärkung\n",
    "V_N = sin1.vN #Nachverstärker\n",
    "V_gl = 10 #Gleichspannungsverstärker\n",
    "\n",
    "sin1['voltageCorrected'] = sin1.voltage / (V_in/V_ab)**2 / (V_gl * V_N**2 * V_V**2)\n",
    "sin1['verstaerkung'] = V_gl * V_V**2 * V_N\n",
    "\n",
    "\n",
    "\n",
    "# Plot der Messewerte\n",
    "fig = plt.figure(figsize=(9,5))\n",
    "ax = fig.add_subplot(111)\n",
    "ax.plot(sin1.frequenzkHz, sin1.voltageCorrected, linestyle='', marker='x', markersize=10, label='Messwerte')\n",
    "ax.set_xlim((0,45))\n",
    "ax.set_xlabel('Frequenz [kHz]')\n",
    "ax.set_ylabel(r'$\\eta(\\nu)$')\n",
    "ax.grid()\n",
    "ax.legend(loc='best')\n",
    "fig.savefig('results/sin.pdf')\n",
    "\n",
    "plt.show()\n",
    "\n",
    "# Latex Tabelle\n",
    "sin1['v'] = sin1.voltageCorrected*1000\n",
    "#sin1.to_latex('latex_sin1', float_format='%2.2f', header=False, index=False, columns=['frequenzkHz','vN','v'])"
   ]
  },
  {
   "cell_type": "markdown",
   "metadata": {},
   "source": [
    "### Sinus Korrel"
   ]
  },
  {
   "cell_type": "code",
   "execution_count": 11,
   "metadata": {
    "collapsed": false
   },
   "outputs": [
    {
     "name": "stdout",
     "output_type": "stream",
     "text": [
      "15021.62 \\pm 18.02\n",
      "8.09 \\pm 0.26\n",
      "\\left(2.43 \\pm 0.04\\right) \\times 10^{-1}\n"
     ]
    },
    {
     "data": {
      "image/png": "[encoded data removed]",
      "text/plain": [
       "<matplotlib.figure.Figure at 0x7fea850cde10>"
      ]
     },
     "metadata": {},
     "output_type": "display_data"
    }
   ],
   "source": [
    "sin2 = pd.read_csv('daten_korrel_sin.csv', header=0, delimiter='\\t', names=['frequenz', 'voltage','vN'])\n",
    "sin2 = sin2.fillna(method='pad')\n",
    "\n",
    "# Rauschen der Aparatur abziehen (Korrelationsaufbau)\n",
    "eigenRauschen = pd.read_csv('eigenRauschen2.csv', header=0, delimiter='\\t', index_col=0, names=['eigenRauschen'])\n",
    "sin2 = sin2.join(eigenRauschen, on='vN', how='left')\n",
    "sin2['voltage'] -= sin2['eigenRauschen']\n",
    "\n",
    "#Einheiten Umrechnen\n",
    "sin2['frequenzkHz'] = sin2.frequenz # Plot soll in kHz bleiben\n",
    "sin2.frequenz *= 1000. # in Herz umrechnen\n",
    "sin2.index = sin2.frequenz \n",
    "sin2['voltage'] /= 1000. #in Volt umrechnen\n",
    "sin2.sort_index(inplace=True)\n",
    "\n",
    "\n",
    "\n",
    "# Verstärkungen aufzählen\n",
    "V_in = 175e-3 #Eingangsspannung\n",
    "V_ab = 1000 #Abschwächer\n",
    "V_V = 1000 #Vorverstärkung\n",
    "V_N = sin2.vN *10 #Nachverstärker\n",
    "V_gl = 10 #Gleichspannungsverstärker\n",
    "\n",
    "sin2['voltageCorrected'] = sin2.voltage / (V_in/V_ab)**2 / V_gl / V_N**2 / V_V**2\n",
    "\n",
    "# Fit und Plot\n",
    "popt, pcov = curve_fit(durchlasskurve, sin2.frequenz, sin2.voltageCorrected, p0=[1e4,8,175e-3])\n",
    "perr = np.sqrt(np.diag(pcov))\n",
    "\n",
    "nu_0 = unc.ufloat(popt[0], perr[0])\n",
    "Q = unc.ufloat(popt[1], perr[1])\n",
    "U = unc.ufloat(popt[2], perr[2])\n",
    "\n",
    "with open(\"results/sin2_nu0.fit\", \"w\") as text_file:\n",
    "    print('{:.2fL}'.format(nu_0), file=text_file)\n",
    "    print('{:.2fL}'.format(nu_0))\n",
    "with open(\"results/sin2_Q.fit\", \"w\") as text_file:\n",
    "    print('{:.2fL}'.format(Q), file=text_file)\n",
    "    print('{:.2fL}'.format(Q))\n",
    "with open(\"results/sin2_U.fit\", \"w\") as text_file:\n",
    "    print('{:.2eL}'.format(U), file=text_file)\n",
    "    print('{:.2eL}'.format(U))\n",
    "    \n",
    "    \n",
    "x = np.linspace(5e3, 30e3, 1000)\n",
    "\n",
    "# Plot der Messewerte\n",
    "fig = plt.figure(figsize=(9,5))\n",
    "ax = fig.add_subplot(111)\n",
    "ax.plot(sin2.frequenzkHz, sin2.voltageCorrected, linestyle='', marker='x', markersize=10, label='Messwerte')\n",
    "\n",
    "y = durchlasskurve(x, popt[0], popt[1], popt[2])\n",
    "ax.plot(x/1000,y, label='Fit')\n",
    "\n",
    "y2 = durchlasskurve(x, popt[0], 10, 175e-3)\n",
    "ax.plot(x/1000,y2, label='Fit mit Q=10, $V_E=0.175$ mV')\n",
    "\n",
    "ax.set_xlim((0,40))\n",
    "ax.set_xlabel('Frequenz [kHz]')\n",
    "ax.set_ylabel(r'$\\eta(\\nu)$')\n",
    "ax.grid()\n",
    "ax.legend(loc='upper right')\n",
    "fig.savefig('results/sin_korrel.pdf')\n",
    "\n",
    "plt.show()\n",
    "sin2['v'] = sin2.voltageCorrected*1000\n",
    "#sin2.to_latex('latex_sin2', float_format='%2.3f', header=False, index=False, columns=['frequenzkHz','vN','v'])"
   ]
  },
  {
   "cell_type": "markdown",
   "metadata": {},
   "source": [
    "### Calc Delta Nu"
   ]
  },
  {
   "cell_type": "code",
   "execution_count": 12,
   "metadata": {
    "collapsed": false
   },
   "outputs": [
    {
     "name": "stdout",
     "output_type": "stream",
     "text": [
      "3880.49 \\pm 25.27\n",
      "721.66 \\pm 8419.05\n"
     ]
    }
   ],
   "source": [
    "dNu1 = np.trapz(y=sin1.voltageCorrected.values, x=sin1.frequenz)\n",
    "rG1 = restGlied(sin1.frequenz.values, sin1.voltageCorrected.values)\n",
    "deltaNu1 = unc.ufloat(dNu1, rG1)\n",
    "\n",
    "dNu2 = np.trapz(y=sin2.voltageCorrected.values, x=sin2.frequenz)\n",
    "rG2 = restGlied(sin2.frequenz.values, sin2.voltageCorrected.values)\n",
    "deltaNu2_file = unc.ufloat(dNu2, rG2)\n",
    "deltaNu2 = unc.ufloat(dNu2, 0) #Error was too big, so we set it to 0 for further analysis\n",
    "\n",
    "with open(\"results/sin1_DeltaNu.fit\", \"w\") as text_file:\n",
    "    print('{:.2fL}'.format(deltaNu1), file=text_file)\n",
    "    print('{:.2fL}'.format(deltaNu1))\n",
    "\n",
    "with open(\"results/sin2_DeltaNu.fit\", \"w\") as text_file:\n",
    "    print('{:.2fL}'.format(deltaNu2_file), file=text_file)\n",
    "    print('{:.2fL}'.format(deltaNu2_file))\n",
    "\n"
   ]
  },
  {
   "cell_type": "markdown",
   "metadata": {},
   "source": [
    "### Rauschzahl"
   ]
  },
  {
   "cell_type": "code",
   "execution_count": 13,
   "metadata": {
    "collapsed": false
   },
   "outputs": [
    {
     "name": "stdout",
     "output_type": "stream",
     "text": [
      "F500_1=0.706 \\pm 0.014\n",
      "F500_2=0.625 \\pm 0.013\n"
     ]
    }
   ],
   "source": [
    "U500 = unc.ufloat(706e-3, 0.02*706e-3)\n",
    "F500 = U500 / (4*const.Boltzmann * 293 * 500 * deltaNu1 * 10**13)\n",
    "with open(\"results/rausch1.fit\", \"w\") as text_file:\n",
    "    print('{:L}'.format(U500), file=text_file)\n",
    "    print('F500_1={:L}'.format(U500))\n",
    "\n",
    "U500_2 = unc.ufloat(625e-3, 0.02*625e-3)\n",
    "F500_2 = U500 / (4*const.Boltzmann * 293 * 500 * deltaNu2 * 10**15)\n",
    "with open(\"results/rausch2.fit\", \"w\") as text_file:\n",
    "    print('{:L}'.format(U500_2), file=text_file)\n",
    "    print('F500_2={:L}'.format(U500_2))"
   ]
  },
  {
   "cell_type": "markdown",
   "metadata": {},
   "source": [
    "### Widerstand 1 normal"
   ]
  },
  {
   "cell_type": "code",
   "execution_count": 17,
   "metadata": {
    "collapsed": false
   },
   "outputs": [
    {
     "name": "stdout",
     "output_type": "stream",
     "text": [
      "m=\\left(1.20 \\pm 0.01\\right) \\times 10^{-16}\n",
      "b=\\left(2.92 \\pm 0.45\\right) \\times 10^{-15}\n",
      "kB=\\left(2.63 \\pm 0.02\\right) \\times 10^{-23}\n",
      "            widerstand  voltage      vN  voltageNormed\n",
      "widerstand                                            \n",
      "0.6                0.6   0.0124  1000.0   1.240000e-15\n",
      "51.2              51.2   0.1080  1000.0   1.080000e-14\n",
      "100.4            100.4   0.1440  1000.0   1.440000e-14\n",
      "148.8            148.8   0.2100  1000.0   2.100000e-14\n",
      "205.0            205.0   0.2760  1000.0   2.760000e-14\n"
     ]
    },
    {
     "data": {
      "image/png": "[encoded data removed]",
      "text/plain": [
       "<matplotlib.figure.Figure at 0x7fea812b9400>"
      ]
     },
     "metadata": {},
     "output_type": "display_data"
    }
   ],
   "source": [
    "daten = pd.read_csv('daten_wid1.csv', header=0, delimiter='\\t', names=['widerstand', 'voltage','vN'])\n",
    "\n",
    "\n",
    "daten = daten.fillna(method='pad')\n",
    "daten.index = daten.widerstand\n",
    "daten.voltage /= 1000 #in Volt umrechnen\n",
    "\n",
    "# Verstärkungen aufzählen\n",
    "V_V = 1000 #Vorverstärkung\n",
    "V_N = daten.vN #Nachverstärker\n",
    "V_gl = 10 #Gleichspannungsverstärker\n",
    "\n",
    "daten['voltageNormed'] = daten.voltage / (V_gl * V_N**2 * V_V**2)\n",
    "\n",
    "\n",
    "noFit = daten.query('widerstand > 960')\n",
    "daten = daten.query('widerstand <= 960')\n",
    "\n",
    "# Fit\n",
    "popt, pcov = curve_fit(gerade, daten.widerstand, daten.voltageNormed)\n",
    "perr = np.sqrt(np.diag(pcov))\n",
    "\n",
    "x = np.linspace(0, 1000, 20)\n",
    "y = gerade(x,popt[0], popt[1])\n",
    "m = unc.ufloat(popt[0], perr[0])\n",
    "b = unc.ufloat(popt[1], perr[1])\n",
    "kB1 = m/(4 * deltaNu1 * 293.15)\n",
    "\n",
    "with open(\"results/wid1_m.fit\", \"w\") as text_file:\n",
    "    print('{:.3L}'.format(m), file=text_file)\n",
    "    print('m={:.3L}'.format(m))\n",
    "with open(\"results/wid1_b.fit\", \"w\") as text_file:\n",
    "    print('{:.3L}'.format(b), file=text_file)\n",
    "    print('b={:.3L}'.format(b))\n",
    "with open(\"results/wid1_kb.fit\", \"w\") as text_file:\n",
    "    print('{:.3L}'.format(kB1), file=text_file)\n",
    "    print('kB={:.3L}'.format(kB1))\n",
    "\n",
    "\n",
    "fig = plt.figure(figsize=(9,5))\n",
    "ax = fig.add_subplot(111)\n",
    "daten.voltageNormed.plot(ax=ax, linestyle='', marker='+', color='blue', markersize=10, label='Für Regression verwendet')\n",
    "noFit.voltageNormed.plot(ax=ax, linestyle='', marker='x', color='red', markersize=10, label='Nicht verwendet')\n",
    "ax.plot(x,y, label='Fit', color='green')\n",
    "ax.set_xlim((0,1010))\n",
    "ax.set_xlabel('Widerstand $[\\Omega]$')\n",
    "ax.set_ylabel('$U_0^2\\ [V]$')\n",
    "ax.grid()\n",
    "ax.legend(loc='best')\n",
    "fig.savefig('results/wid1.pdf')\n",
    "#plt.show()\n",
    "\n",
    "print(daten.head())\n",
    "daten['v'] = daten.voltageNormed*1e13\n",
    "#daten.to_latex('latex_wid1', float_format='%2.3f', header=False, index=False, columns=['widerstand','vN','v'])"
   ]
  },
  {
   "cell_type": "markdown",
   "metadata": {},
   "source": [
    "### Widerstand 2 normal"
   ]
  },
  {
   "cell_type": "code",
   "execution_count": 39,
   "metadata": {
    "collapsed": false
   },
   "outputs": [
    {
     "name": "stdout",
     "output_type": "stream",
     "text": [
      "m=\\left(1.01 \\pm 0.01\\right) \\times 10^{-16}\n",
      "b=\\left(-3.75 \\pm 1.58\\right) \\times 10^{-14}\n",
      "kB=\\left(2.22 \\pm 0.02\\right) \\times 10^{-23}\n"
     ]
    },
    {
     "data": {
      "image/png": "[encoded data removed]",
      "text/plain": [
       "<matplotlib.figure.Figure at 0x7fea851034a8>"
      ]
     },
     "metadata": {},
     "output_type": "display_data"
    }
   ],
   "source": [
    "daten = pd.read_csv('daten_wid2.csv', header=0, delimiter='\\t', names=['widerstand', 'voltage','vN'])\n",
    "\n",
    "daten = daten.fillna(method='pad')\n",
    "daten['widerstand_ohm'] = daten.widerstand*1000 #in Ohm umrechnen\n",
    "daten.index = daten.widerstand\n",
    "daten.voltage /= 1000 #in Volt umrechnen\n",
    "\n",
    "# Verstärkungen aufzählen\n",
    "V_V = 1000 #Vorverstärkung\n",
    "V_N = daten.vN #Nachverstärker\n",
    "V_gl = 10 #Gleichspannungsverstärker\n",
    "\n",
    "daten['voltageNormed'] = daten.voltage / (V_gl * V_N**2 * V_V**2)\n",
    "\n",
    "\n",
    "noFit = daten.query('widerstand > 50')\n",
    "daten = daten.query('widerstand <= 50')\n",
    "\n",
    "# Fit\n",
    "popt, pcov = curve_fit(gerade, daten.widerstand_ohm, daten.voltageNormed)\n",
    "perr = np.sqrt(np.diag(pcov))\n",
    "\n",
    "x = np.linspace(0, 100, 20)\n",
    "y = gerade(x*1000,popt[0], popt[1])\n",
    "m = unc.ufloat(popt[0], perr[0])\n",
    "b = unc.ufloat(popt[1], perr[1])\n",
    "kB2 = m/(4 * deltaNu1 * 293.15)\n",
    "\n",
    "with open(\"results/wid2_m.fit\", \"w\") as text_file:\n",
    "    print('{:.3L}'.format(m), file=text_file)\n",
    "    print('m={:.3L}'.format(m))\n",
    "with open(\"results/wid2_b.fit\", \"w\") as text_file:\n",
    "    print('{:.3L}'.format(b), file=text_file)\n",
    "    print('b={:.3L}'.format(b))\n",
    "with open(\"results/wid2_kb.fit\", \"w\") as text_file:\n",
    "    print('{:.3L}'.format(kB2), file=text_file)\n",
    "    print('kB={:.3L}'.format(kB2))\n",
    "\n",
    "fig = plt.figure(figsize=(9,5))\n",
    "ax = fig.add_subplot(111)\n",
    "daten.voltageNormed.plot(ax=ax, linestyle='', marker='+', color='blue', markersize=10, label='Für Regression verwendet')\n",
    "noFit.voltageNormed.plot(ax=ax, linestyle='', marker='x', color='red', markersize=10, label='Nicht verwendet')\n",
    "\n",
    "ax.plot(x,y, label='Fit', color='green')\n",
    "ax.set_xlim((0,100))\n",
    "ax.set_ylim((0,0.8e-11))\n",
    "ax.set_xlabel('Widerstand $[k\\Omega]$')\n",
    "ax.set_ylabel('$U_0^2\\ [V]$')\n",
    "ax.grid()\n",
    "ax.legend(loc='best')\n",
    "fig.savefig('results/wid2.pdf')\n",
    "\n",
    "\n",
    "daten['v'] = daten.voltageNormed*1e13\n",
    "#daten.to_latex('latex_wid2', float_format='%2.3f', header=False, index=False, columns=['widerstand','vN','v'])\n",
    "\n",
    "plt.show()"
   ]
  },
  {
   "cell_type": "markdown",
   "metadata": {},
   "source": [
    "### Widerstand 1 Korrel"
   ]
  },
  {
   "cell_type": "code",
   "execution_count": null,
   "metadata": {
    "collapsed": false
   },
   "outputs": [],
   "source": [
    "daten = pd.read_csv('daten_korrel_wid1.csv', header=0, delimiter='\\t', names=['widerstand', 'voltage','vN'])\n",
    "daten = daten.fillna(method='pad')\n",
    "daten.index = daten.widerstand\n",
    "daten.voltage /= 1000 #in Volt umrechnen\n",
    "\n",
    "# Verstärkungen aufzählen\n",
    "V_V = 1000 #Vorverstärkung\n",
    "V_S = 10   #Selektive Verstärkung\n",
    "V_N = daten.vN #Nachverstärker\n",
    "V_gl = 10 #Gleichspannungsverstärker\n",
    "\n",
    "daten['voltageNormed'] = daten.voltage / (V_gl * V_S**2 * V_N**2 * V_V**2)\n",
    "\n",
    "\n",
    "# Fit\n",
    "popt, pcov = curve_fit(gerade, daten.widerstand, daten.voltageNormed)\n",
    "perr = np.sqrt(np.diag(pcov))\n",
    "m = unc.ufloat(popt[0], perr[0])\n",
    "b = unc.ufloat(popt[1], perr[1])\n",
    "kB1_korrel = m/(4 * deltaNu2 * 293.15)\n",
    "\n",
    "with open(\"results/wid1_korrel_m.fit\", \"w\") as text_file:\n",
    "    print('{:.3L}'.format(m), file=text_file)\n",
    "    print('m={:.3L}'.format(m))\n",
    "with open(\"results/wid1_korrel_b.fit\", \"w\") as text_file:\n",
    "    print('{:.3L}'.format(b), file=text_file)\n",
    "    print('b={:.3L}'.format(b))\n",
    "with open(\"results/wid1_korrel_kb.fit\", \"w\") as text_file:\n",
    "    print('{:.3L}'.format(kB1_korrel), file=text_file)\n",
    "    print('kB={:.3L}'.format(kB1_korrel))\n",
    "\n",
    "x = np.linspace(0, 1000, 20)\n",
    "y = gerade(x,popt[0], popt[1])\n",
    "\n",
    "\n",
    "fig = plt.figure(figsize=(9,5))\n",
    "daten.voltageNormed.plot(linestyle='', marker='x', markersize=10, label='Messwerte')\n",
    "plt.plot(x,y, label='Fit')\n",
    "plt.xlim((0,1000))\n",
    "plt.ylim((0,3.5e-14))\n",
    "plt.xlabel('Widerstand $[\\Omega]$')\n",
    "plt.ylabel('$U_0^2\\ [V]$')\n",
    "plt.grid()\n",
    "plt.legend(loc='best')\n",
    "plt.savefig('results/wid1_korrel.pdf')\n",
    "\n",
    "\n",
    "daten['v'] = daten.voltageNormed*1e14\n",
    "#daten.to_latex('latex_wid1_korrel', float_format='%2.3f', header=False, index=False, columns=['widerstand','vN','v'])\n",
    "\n",
    "plt.show()"
   ]
  },
  {
   "cell_type": "markdown",
   "metadata": {},
   "source": [
    "### Widerstand 2 Korrel"
   ]
  },
  {
   "cell_type": "code",
   "execution_count": 41,
   "metadata": {
    "collapsed": false
   },
   "outputs": [
    {
     "name": "stdout",
     "output_type": "stream",
     "text": [
      "m=\\left(2.81 \\pm 0.02\\right) \\times 10^{-17}\n",
      "b=\\left(1.62 \\pm 2.08\\right) \\times 10^{-15}\n",
      "kB=\\left(3.32 \\pm 0.03\\right) \\times 10^{-23}\n"
     ]
    },
    {
     "data": {
      "image/png": "[encoded data removed]",
      "text/plain": [
       "<matplotlib.figure.Figure at 0x7fea84e18b00>"
      ]
     },
     "metadata": {},
     "output_type": "display_data"
    }
   ],
   "source": [
    "daten = pd.read_csv('daten_korrel_wid2.csv', header=0, delimiter='\\t', names=['widerstand', 'voltage','vN'])\n",
    "daten = daten.fillna(method='pad')\n",
    "daten.index = daten.widerstand\n",
    "daten['widerstand_ohm'] = daten.widerstand * 1000\n",
    "daten.voltage /= 1000 #in Volt umrechnen\n",
    "\n",
    "# Verstärkungen aufzählen\n",
    "V_V = 1000 #Vorverstärkung\n",
    "V_S = 10   #Selektive Verstärkung\n",
    "V_N = daten.vN #Nachverstärker\n",
    "V_gl = 10 #Gleichspannungsverstärker\n",
    "\n",
    "daten['voltageNormed'] = daten.voltage / (V_gl * V_S**2 * V_N**2 * V_V**2)\n",
    "\n",
    "\n",
    "fit = daten.query('widerstand <= 20')\n",
    "noFit = daten.query('widerstand > 20')\n",
    "\n",
    "# Fit\n",
    "popt, pcov = curve_fit(gerade, fit.widerstand_ohm, fit.voltageNormed)\n",
    "perr = np.sqrt(np.diag(pcov))\n",
    "m = unc.ufloat(popt[0], perr[0])\n",
    "b = unc.ufloat(popt[1], perr[1])\n",
    "kB2_korrel = m/(4 * deltaNu2 * 293.15)\n",
    "\n",
    "with open(\"results/wid2_korrel_m.fit\", \"w\") as text_file:\n",
    "    print('{:.3L}'.format(m), file=text_file)\n",
    "    print('m={:.3L}'.format(m))\n",
    "with open(\"results/wid2_korrel_b.fit\", \"w\") as text_file:\n",
    "    print('{:.3L}'.format(b), file=text_file)\n",
    "    print('b={:.3L}'.format(b))\n",
    "with open(\"results/wid2_korrel_kb.fit\", \"w\") as text_file:\n",
    "    print('{:.3L}'.format(kB2_korrel), file=text_file)\n",
    "    print('kB={:.3L}'.format(kB2_korrel))\n",
    "\n",
    "x = np.linspace(0, 50, 20)\n",
    "y = gerade(x*1000,popt[0], popt[1])\n",
    "    \n",
    "fig = plt.figure(figsize=(9,5))\n",
    "fit.voltageNormed.plot(linestyle='', marker='+', markersize=10, color = 'blue', label='Für Regression verwendet')\n",
    "noFit.voltageNormed.plot(linestyle='', marker='x', markersize=10, color='red', label='nicht verwendet')\n",
    "plt.plot(x,y, label='Fit')\n",
    "\n",
    "plt.xlim((0,100))\n",
    "plt.ylim((0,1.2e-12))\n",
    "plt.xlabel('Widerstand $[k\\Omega]$')\n",
    "plt.ylabel('$\\overline{U_0}^2\\ [V]$')\n",
    "plt.grid()\n",
    "plt.legend(loc='best')\n",
    "plt.savefig('results/wid2_korrel.pdf')\n",
    "\n",
    "\n",
    "daten['v'] = daten.voltageNormed*1e14\n",
    "#daten.to_latex('latex_wid2_korrel', float_format='%2.3f', header=False, index=False, columns=['widerstand','vN','v'])\n",
    "\n",
    "plt.show()"
   ]
  },
  {
   "cell_type": "markdown",
   "metadata": {},
   "source": [
    "# Glühkathoden"
   ]
  },
  {
   "cell_type": "code",
   "execution_count": null,
   "metadata": {
    "collapsed": false
   },
   "outputs": [],
   "source": [
    "daten = pd.read_csv('reinMet_Sat9.csv', header=0, delimiter='\\t', names=['spannung', '9'])\n",
    "daten2 = pd.read_csv('reinMet_Sat925.csv', header=0, delimiter='\\t', names=['spannung', 'strom'])\n",
    "daten['925'] = daten2['strom']\n",
    "daten.index = daten.spannung\n",
    "\n",
    "fig = plt.figure(figsize=(9,5))\n",
    "daten['925'].plot(linestyle='', marker='x', markersize=10, label=\"Heizstrom = 9.25 mA\")\n",
    "daten['9'].plot(linestyle='', marker='+', markersize=10, label=\"Heizstrom = 9 mA\")\n",
    "plt.xlim((0,180))\n",
    "plt.ylim((0,5.75))\n",
    "plt.xlabel('Beschleunigungsspannung [V]')\n",
    "plt.ylabel('Anodenstrom [mA]')\n",
    "plt.grid()\n",
    "plt.legend(loc='lower right')\n",
    "plt.savefig('results/kathRein_sat.pdf')\n",
    "\n",
    "\n",
    "#daten.to_latex('latex_kennlinie', float_format='%2.2f', header=False, index=False, columns=['spannung','9','925'])\n",
    "\n",
    "plt.show()"
   ]
  },
  {
   "cell_type": "markdown",
   "metadata": {},
   "source": [
    "### Oxidkathode"
   ]
  },
  {
   "cell_type": "code",
   "execution_count": null,
   "metadata": {
    "collapsed": false
   },
   "outputs": [],
   "source": [
    "daten = pd.read_csv('oxidKath_K.csv', header=0, delimiter='\\t', names=['frequenz', 'spannung_mean', 'spannung_min', 'spannung_max', 'gain', 'dNu'])\n",
    "daten['frequenz_Hz'] = daten.frequenz * 1000\n",
    "daten['dNu'] = daten.apply(lambda x: fillNu(x,2200), axis=1)\n",
    "daten = daten.fillna(method='pad')\n",
    "daten['spannung_mean'] /= 1000\n",
    "daten['spannung_min'] /= 1000\n",
    "daten['spannung_max'] /= 1000\n",
    "\n",
    "daten.index = daten.frequenz_Hz\n",
    "\n",
    "\n",
    "# schätze Fehler durch Standardabweichung ab\n",
    "err = lambda x : np.sqrt((x.spannung_mean - x.spannung_min)**2 + (x.spannung_mean - x.spannung_max)**2)\n",
    "\n",
    "\n",
    "V_V = 1000 #Vorverstärkung\n",
    "V_N = daten.gain #Nachverstärker\n",
    "V_S = np.ones(len(daten.index))          #Selektive Verstärkung\n",
    "V_S[daten.index.values <= 1e5] *= 10  #nur bis 100khz, danach keine selektive Verstärkung\n",
    "V_gl = 10 #Gleichspannungsverstärker\n",
    "\n",
    "daten['spannungNormed'] = daten.spannung_mean / (V_V * V_N * V_S)**2 /V_gl\n",
    "daten['spannung_error'] = daten.apply(err, axis=1) / (V_V * V_N * V_S)**2 /V_gl\n",
    "daten.sort_index(inplace=True)\n",
    "\n",
    "daten['rausch'] = daten.spannungNormed / 2200**2 / daten.dNu\n",
    "\n",
    "schrot = daten.query('frequenz_Hz > 9900')\n",
    "funkel = daten.query('frequenz_Hz <= 1000')\n",
    "nicht = daten.query('1000 < frequenz_Hz <= 9900')\n",
    "\n",
    "\n",
    "# Fit\n",
    "popt, pcov = curve_fit(eFunk,schrot.frequenz_Hz, schrot.rausch)\n",
    "perr = np.sqrt(np.diag(pcov))\n",
    "m1 = unc.ufloat(popt[0], perr[0])\n",
    "b1 = unc.ufloat(popt[1], perr[1])\n",
    "popt, pcov = curve_fit(\n",
    "    eFunk,\n",
    "    funkel.frequenz_Hz,\n",
    "    (funkel.rausch - eFunk(funkel.frequenz_Hz, m1.n, b1.n)))\n",
    "perr = np.sqrt(np.diag(pcov))\n",
    "m2 = unc.ufloat(popt[0], perr[0])\n",
    "b2 = unc.ufloat(popt[1], perr[1])\n",
    "\n",
    "with open(\"results/oxid_schrot_m.fit\", \"w\") as text_file:\n",
    "    print('{:.3L}'.format(m1), file=text_file)\n",
    "    print('m={:.3L}'.format(m1))\n",
    "with open(\"results/oxid_schrot_b.fit\", \"w\") as text_file:\n",
    "    print('{:.3L}'.format(b1), file=text_file)\n",
    "    print('b={:.3L}'.format(b1))\n",
    "\n",
    "with open(\"results/oxid_funkel_m.fit\", \"w\") as text_file:\n",
    "    print('{:.3L}'.format(m2), file=text_file)\n",
    "    print('m={:.3L}'.format(m2))\n",
    "with open(\"results/oxid_funkel_b.fit\", \"w\") as text_file:\n",
    "    print('{:.3L}'.format(b2), file=text_file)\n",
    "    print('b={:.3L}'.format(b2))\n",
    "\n",
    "with open(\"results/oxid_funkel_F.fit\", \"w\") as text_file:\n",
    "    print('{:.3L}'.format(m2), file=text_file)\n",
    "    print('F={:.3L}'.format(m2))\n",
    "with open(\"results/oxid_schrot_W.fit\", \"w\") as text_file:\n",
    "    print('{:.3L}'.format(10**b1), file=text_file)\n",
    "    print('W={:.3L}'.format(10**b1))\n",
    "\n",
    "\n",
    "x1 = np.linspace(10, 1e6, 10)\n",
    "x2 = np.linspace(9, 10000, 10)\n",
    "y1 = eFunk(x1, m1.n, b1.n)\n",
    "y2 = eFunk(x2, m2.n, b2.n)\n",
    "\n",
    "fig = plt.figure(figsize=(9,5))\n",
    "schrot.rausch.plot(linestyle='', marker='x', markersize=10, color = 'blue', label='Schrot-Messwerte')\n",
    "plt.plot(x1, y1, label='Schrotrauschen', color='blue')\n",
    "funkel.rausch.plot(linestyle='', marker='+', markersize=10, color = 'red', label='Funkel-Messwerte um Schrot korrigiert')\n",
    "plt.plot(x2, y2, label='Funkelrauschen', color='red')\n",
    "nicht.rausch.plot(linestyle='', marker='s', fillstyle='none', markersize=10, color = 'green', label='Nicht verwendet')\n",
    "\n",
    "plt.xlabel('Frequenz [Hz]')\n",
    "plt.ylabel('W')\n",
    "plt.ylim((10e-23,50e-20))\n",
    "plt.loglog()\n",
    "plt.legend(loc='best')\n",
    "plt.grid()\n",
    "plt.savefig('results/oxid_rausch.pdf')\n",
    "\n",
    "tab = daten\n",
    "tab['mean'] = daten.spannungNormed*1e13\n",
    "tab['error'] = daten.spannung_error*1e13\n",
    "#tab.to_latex('latex_oxid_rauschen', float_format='%2.2f', header=False, index=False, columns=['frequenz','gain','dNu','mean','error'])\n",
    "\n",
    "plt.show()"
   ]
  },
  {
   "cell_type": "markdown",
   "metadata": {},
   "source": [
    "### Reinkathode e0"
   ]
  },
  {
   "cell_type": "code",
   "execution_count": null,
   "metadata": {
    "collapsed": false
   },
   "outputs": [],
   "source": [
    "daten = pd.read_csv('reinMet_e0.csv', header=0, delimiter='\\t', names=['anodenStrom', 'rauschspannung', 'gain'])\n",
    "daten = daten.fillna(method='pad')\n",
    "\n",
    "daten.index = daten.anodenStrom\n",
    "daten['anodenStrom'] = daten.anodenStrom / 1000\n",
    "daten['rauschspannung'] = daten.rauschspannung / 1000\n",
    "\n",
    "V_V = 1000 #Vorverstärkung\n",
    "V_N = daten.gain #Nachverstärker\n",
    "V_gl = 10 #Gleichspannungsverstärker\n",
    "\n",
    "daten['stromNormed'] = daten.rauschspannung / (V_V * V_N)**2 / 4680 / V_gl\n",
    "\n",
    "# Fit\n",
    "popt, pcov = curve_fit(gerade, daten.anodenStrom, daten.stromNormed, p0=[0,1e-15])\n",
    "perr = np.sqrt(np.diag(pcov))\n",
    "m = unc.ufloat(popt[0], perr[0])\n",
    "b = unc.ufloat(popt[1], perr[1])\n",
    "e0 = m/2 /10000 / 4680\n",
    "\n",
    "with open(\"results/rein_m.fit\", \"w\") as text_file:\n",
    "    print('{:.3L}'.format(m), file=text_file)\n",
    "    print('m={:.3L}'.format(m))\n",
    "with open(\"results/rein_b.fit\", \"w\") as text_file:\n",
    "    print('{:.3L}'.format(b), file=text_file)\n",
    "    print('b={:.3L}'.format(b))\n",
    "with open(\"results/rein_e0.fit\", \"w\") as text_file:\n",
    "    print('{:.3L}'.format(e0), file=text_file)\n",
    "    print('e0={:.3L}'.format(e0))\n",
    "\n",
    "x = np.linspace(0, 5e-3, 10)\n",
    "y = gerade(x,popt[0], popt[1])\n",
    "\n",
    "fig = plt.figure(figsize=(9,5))\n",
    "daten.stromNormed.plot(linestyle='', marker='x', markersize=10, color = 'blue', label='Messwerte')\n",
    "plt.plot(x,y, label='Fit')\n",
    "plt.xlabel('Anodenstrom [A]')\n",
    "plt.ylabel('Rauschspannung [V]')\n",
    "plt.ylim((0,2e-12))\n",
    "plt.grid()\n",
    "plt.legend(loc='best')\n",
    "plt.savefig('results/rein_e0.pdf')\n",
    "\n",
    "tab = daten\n",
    "print(daten)\n",
    "tab['stromNormed'] = daten.stromNormed*1e13\n",
    "tab['anodenStrom'] = daten.anodenStrom*1000\n",
    "#tab.to_latex('latex_rein_e0', float_format='%2.2f', header=False, index=False, columns=['anodenStrom','gain','stromNormed'])\n",
    "\n",
    "plt.show()"
   ]
  },
  {
   "cell_type": "markdown",
   "metadata": {},
   "source": [
    "### Reinkathode Rauschspektrum"
   ]
  },
  {
   "cell_type": "code",
   "execution_count": null,
   "metadata": {
    "collapsed": true
   },
   "outputs": [],
   "source": [
    "### daten = pd.read_csv('reinMet_K.csv', header=0, delimiter='\\t', names=['frequenz', 'spannung_mean', 'spannung_min', 'spannung_max', 'gain','dNu'])\n",
    "daten['frequenz_Hz'] = daten.frequenz * 1000\n",
    "daten['dNu'] = daten.apply(lambda x: fillNu(x, 4680), axis=1)\n",
    "daten['spannung_mean'] /= 1000\n",
    "daten['spannung_min'] /= 1000\n",
    "daten['spannung_max'] /= 1000\n",
    "daten = daten.fillna(method='pad')\n",
    "\n",
    "daten.index = daten.frequenz_Hz\n",
    "\n",
    "\n",
    "# schätze Fehler durch Standardabweichung ab\n",
    "err = lambda x : np.sqrt((x.spannung_mean - x.spannung_min)**2 + (x.spannung_mean - x.spannung_max)**2)\n",
    "\n",
    "\n",
    "V_V = 1000 #Vorverstärkung\n",
    "V_N = daten.gain #Nachverstärker\n",
    "V_S = np.ones(len(daten.index))          #Selektive Verstärkung\n",
    "V_S[daten.index.values <= 1e5] *= 10  #nur bis 100khz, danach keine selektive Verstärkung\n",
    "V_gl = 10 #Gleichspannungsverstärker\n",
    "\n",
    "daten['spannungNormed'] = daten.spannung_mean / (V_V * V_N  * V_S)**2 / V_gl\n",
    "daten['spannung_error'] = daten.apply(err, axis=1) / (V_V * V_N * V_S)**2 /V_gl\n",
    "daten.sort_index(inplace=True)\n",
    "\n",
    "daten['rausch'] = daten.spannungNormed / 4680**2 / daten.dNu\n",
    "\n",
    "schrot = daten.query('frequenz_Hz > 105')\n",
    "funkel = daten.query('frequenz_Hz <= 60')\n",
    "nicht = daten.query('60 < frequenz_Hz <= 105')\n",
    "\n",
    "\n",
    "# Fit\n",
    "popt, pcov = curve_fit(eFunk,schrot.frequenz_Hz, schrot.rausch)\n",
    "perr = np.sqrt(np.diag(pcov))\n",
    "m1 = unc.ufloat(popt[0], perr[0])\n",
    "b1 = unc.ufloat(popt[1], perr[1])\n",
    "popt, pcov = curve_fit(\n",
    "    eFunk,\n",
    "    funkel.frequenz_Hz,\n",
    "    (funkel.rausch - eFunk(funkel.frequenz_Hz, m1.n, b1.n)))\n",
    "perr = np.sqrt(np.diag(pcov))\n",
    "m2 = unc.ufloat(popt[0], perr[0])\n",
    "b2 = unc.ufloat(popt[1], perr[1])\n",
    "\n",
    "with open(\"results/rein_schrot_m.fit\", \"w\") as text_file:\n",
    "    print('{:.3L}'.format(m1), file=text_file)\n",
    "    print('m={:.3L}'.format(m1))\n",
    "with open(\"results/rein_schrot_b.fit\", \"w\") as text_file:\n",
    "    print('{:.3L}'.format(b1), file=text_file)\n",
    "    print('b={:.3L}'.format(b1))\n",
    "\n",
    "with open(\"results/rein_funkel_m.fit\", \"w\") as text_file:\n",
    "    print('{:.3L}'.format(m2), file=text_file)\n",
    "    print('m={:.3L}'.format(m2))\n",
    "with open(\"results/rein_funkel_b.fit\", \"w\") as text_file:\n",
    "    print('{:.3L}'.format(b2), file=text_file)\n",
    "    print('b={:.3L}'.format(b2))\n",
    "\n",
    "with open(\"results/rein_funkel_F.fit\", \"w\") as text_file:\n",
    "    print('{:.3L}'.format(m2), file=text_file)\n",
    "    print('F={:.3L}'.format(m2))\n",
    "with open(\"results/rein_schrot_W.fit\", \"w\") as text_file:\n",
    "    print('{:.3L}'.format(10**b1), file=text_file)\n",
    "    print('W={:.3L}'.format(10**b1))\n",
    "\n",
    "\n",
    "x1 = np.linspace(10, 10e6, 10)\n",
    "x2 = np.linspace(9, 1000, 10)\n",
    "y1 = eFunk(x1, m1.n, b1.n)\n",
    "y2 = eFunk(x2, m2.n, b2.n)\n",
    "\n",
    "fig = plt.figure(figsize=(9,5))\n",
    "schrot.rausch.plot(linestyle='', marker='x', markersize=10, color = 'blue', label='Schrot-Messwerte')\n",
    "plt.plot(x1, y1, label='Schrotrauschen', color='blue')\n",
    "funkel.rausch.plot(linestyle='', marker='x', markersize=10, color = 'red', label='Funkel-Messwerte um Schrot korrigiert')\n",
    "plt.plot(x2, y2, label='Funkelrauschen', color='red')\n",
    "nicht.rausch.plot(linestyle='', marker='s', fillstyle='none', markersize=10, color = 'green', label='Nicht verwendet')\n",
    "\n",
    "plt.xlabel('Frequenz [Hz]')\n",
    "plt.ylabel('W')\n",
    "plt.ylim((1e-22,1e-18))\n",
    "plt.loglog()\n",
    "plt.legend(loc='best')\n",
    "plt.grid()\n",
    "plt.savefig('results/rein_rausch.pdf')\n",
    "\n",
    "tab = daten\n",
    "tab['mean'] = daten.spannungNormed*1e13\n",
    "tab['error'] = daten.spannung_error*1e13\n",
    "#tab.to_latex('latex_rein_rauschen', float_format='%2.2f', header=False, index=False, columns=['frequenz','gain','dNu','mean','error'])\n",
    "\n",
    "plt.show()"
   ]
  }
 ],
 "metadata": {
  "kernelspec": {
   "display_name": "Python 3",
   "language": "python",
   "name": "python3"
  },
  "language_info": {
   "codemirror_mode": {
    "name": "ipython",
    "version": 3
   },
   "file_extension": ".py",
   "mimetype": "text/x-python",
   "name": "python",
   "nbconvert_exporter": "python",
   "pygments_lexer": "ipython3",
   "version": "3.5.1"
  }
 },
 "nbformat": 4,
 "nbformat_minor": 0
}
